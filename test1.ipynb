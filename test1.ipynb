{
 "metadata": {
  "language_info": {
   "codemirror_mode": {
    "name": "ipython",
    "version": 3
   },
   "file_extension": ".py",
   "mimetype": "text/x-python",
   "name": "python",
   "nbconvert_exporter": "python",
   "pygments_lexer": "ipython3",
   "version": "3.7.4-final"
  },
  "orig_nbformat": 2,
  "kernelspec": {
   "name": "python3",
   "display_name": "Python 3"
  }
 },
 "nbformat": 4,
 "nbformat_minor": 2,
 "cells": [
  {
   "cell_type": "code",
   "execution_count": 1,
   "metadata": {},
   "outputs": [],
   "source": [
    "import pandas as pd \n",
    "import numpy as np \n",
    "import matplotlib.pyplot as plt\n",
    "import plotly.express as px\n",
    "import plotly.graph_objects as go"
   ]
  },
  {
   "cell_type": "code",
   "execution_count": 2,
   "metadata": {},
   "outputs": [],
   "source": [
    "df = pd.read_excel(r'D:\\_文件搬运\\My-workspace\\VScode-python\\USA_major_anylysis\\tabn322.10.xls', index_col=0)\n",
    "df = df.dropna(axis=0)\n",
    "df.index = [a.replace('.', '').strip() for a in df.index]\n",
    "df = df.T"
   ]
  },
  {
   "cell_type": "code",
   "execution_count": 3,
   "metadata": {},
   "outputs": [
    {
     "output_type": "execute_result",
     "data": {
      "text/plain": "         Agriculture and natural resources  Architecture and related services  \\\n1970-71                            12672.0                             5570.0   \n1975-76                            19402.0                             9146.0   \n1980-81                            21886.0                             9455.0   \n\n         Area, ethnic, cultural, gender, and group studies  \\\n1970-71                                             2579.0   \n1975-76                                             3577.0   \n1980-81                                             2887.0   \n\n         Biological and biomedical sciences  Business  \\\n1970-71                             35705.0  115396.0   \n1975-76                             54154.0  143171.0   \n1980-81                             43078.0  200521.0   \n\n         Communication, journalism, and related programs  \\\n1970-71                                          10324.0   \n1975-76                                          20045.0   \n1980-81                                          29428.0   \n\n         Communications technologies  Computer and information sciences  \\\n1970-71                        478.0                             2388.0   \n1975-76                       1237.0                             5652.0   \n1980-81                       1854.0                            15121.0   \n\n         Education  Engineering  ...  Philosophy and religious studies  \\\n1970-71   176307.0      45034.0  ...                            8149.0   \n1975-76   154437.0      38733.0  ...                            8447.0   \n1980-81   108074.0      63642.0  ...                            6776.0   \n\n         Physical sciences and science technologies  Precision production  \\\n1970-71                                     21410.0                   0.0   \n1975-76                                     21458.0                   0.0   \n1980-81                                     23936.0                   0.0   \n\n         Psychology  Public administration and social services  \\\n1970-71     38187.0                                     5466.0   \n1975-76     50278.0                                    15440.0   \n1980-81     41068.0                                    16707.0   \n\n         Social sciences and history  Theology and religious vocations  \\\n1970-71                     155324.0                            3720.0   \n1975-76                     126396.0                            5490.0   \n1980-81                     100513.0                            5808.0   \n\n         Transportation and materials moving  Visual and performing arts  \\\n1970-71                                  0.0                     30394.0   \n1975-76                                225.0                     42138.0   \n1980-81                                263.0                     40479.0   \n\n         Not classified by field of study  \n1970-71                               0.0  \n1975-76                               0.0  \n1980-81                               0.0  \n\n[3 rows x 33 columns]",
      "text/html": "<div>\n<style scoped>\n    .dataframe tbody tr th:only-of-type {\n        vertical-align: middle;\n    }\n\n    .dataframe tbody tr th {\n        vertical-align: top;\n    }\n\n    .dataframe thead th {\n        text-align: right;\n    }\n</style>\n<table border=\"1\" class=\"dataframe\">\n  <thead>\n    <tr style=\"text-align: right;\">\n      <th></th>\n      <th>Agriculture and natural resources</th>\n      <th>Architecture and related services</th>\n      <th>Area, ethnic, cultural, gender, and group studies</th>\n      <th>Biological and biomedical sciences</th>\n      <th>Business</th>\n      <th>Communication, journalism, and related programs</th>\n      <th>Communications technologies</th>\n      <th>Computer and information sciences</th>\n      <th>Education</th>\n      <th>Engineering</th>\n      <th>...</th>\n      <th>Philosophy and religious studies</th>\n      <th>Physical sciences and science technologies</th>\n      <th>Precision production</th>\n      <th>Psychology</th>\n      <th>Public administration and social services</th>\n      <th>Social sciences and history</th>\n      <th>Theology and religious vocations</th>\n      <th>Transportation and materials moving</th>\n      <th>Visual and performing arts</th>\n      <th>Not classified by field of study</th>\n    </tr>\n  </thead>\n  <tbody>\n    <tr>\n      <th>1970-71</th>\n      <td>12672.0</td>\n      <td>5570.0</td>\n      <td>2579.0</td>\n      <td>35705.0</td>\n      <td>115396.0</td>\n      <td>10324.0</td>\n      <td>478.0</td>\n      <td>2388.0</td>\n      <td>176307.0</td>\n      <td>45034.0</td>\n      <td>...</td>\n      <td>8149.0</td>\n      <td>21410.0</td>\n      <td>0.0</td>\n      <td>38187.0</td>\n      <td>5466.0</td>\n      <td>155324.0</td>\n      <td>3720.0</td>\n      <td>0.0</td>\n      <td>30394.0</td>\n      <td>0.0</td>\n    </tr>\n    <tr>\n      <th>1975-76</th>\n      <td>19402.0</td>\n      <td>9146.0</td>\n      <td>3577.0</td>\n      <td>54154.0</td>\n      <td>143171.0</td>\n      <td>20045.0</td>\n      <td>1237.0</td>\n      <td>5652.0</td>\n      <td>154437.0</td>\n      <td>38733.0</td>\n      <td>...</td>\n      <td>8447.0</td>\n      <td>21458.0</td>\n      <td>0.0</td>\n      <td>50278.0</td>\n      <td>15440.0</td>\n      <td>126396.0</td>\n      <td>5490.0</td>\n      <td>225.0</td>\n      <td>42138.0</td>\n      <td>0.0</td>\n    </tr>\n    <tr>\n      <th>1980-81</th>\n      <td>21886.0</td>\n      <td>9455.0</td>\n      <td>2887.0</td>\n      <td>43078.0</td>\n      <td>200521.0</td>\n      <td>29428.0</td>\n      <td>1854.0</td>\n      <td>15121.0</td>\n      <td>108074.0</td>\n      <td>63642.0</td>\n      <td>...</td>\n      <td>6776.0</td>\n      <td>23936.0</td>\n      <td>0.0</td>\n      <td>41068.0</td>\n      <td>16707.0</td>\n      <td>100513.0</td>\n      <td>5808.0</td>\n      <td>263.0</td>\n      <td>40479.0</td>\n      <td>0.0</td>\n    </tr>\n  </tbody>\n</table>\n<p>3 rows × 33 columns</p>\n</div>"
     },
     "metadata": {},
     "execution_count": 3
    }
   ],
   "source": [
    "df.head(3)"
   ]
  },
  {
   "cell_type": "code",
   "execution_count": 4,
   "metadata": {
    "tags": []
   },
   "outputs": [],
   "source": [
    "for index, row in df.iterrows():\n",
    "    # print(index)\n",
    "    df.loc[index, :] = row / row.sum()"
   ]
  },
  {
   "cell_type": "code",
   "execution_count": 5,
   "metadata": {},
   "outputs": [
    {
     "output_type": "execute_result",
     "data": {
      "text/plain": "         Agriculture and natural resources  Architecture and related services  \\\n1970-71                           0.015091                           0.006633   \n1975-76                           0.020958                           0.009880   \n1980-81                           0.023404                           0.010111   \n\n         Area, ethnic, cultural, gender, and group studies  \\\n1970-71                                           0.003071   \n1975-76                                           0.003864   \n1980-81                                           0.003087   \n\n         Biological and biomedical sciences  Business  \\\n1970-71                            0.042520  0.137420   \n1975-76                            0.058498  0.154655   \n1980-81                            0.046066  0.214429   \n\n         Communication, journalism, and related programs  \\\n1970-71                                         0.012294   \n1975-76                                         0.021653   \n1980-81                                         0.031469   \n\n         Communications technologies  Computer and information sciences  \\\n1970-71                     0.000569                           0.002844   \n1975-76                     0.001336                           0.006105   \n1980-81                     0.001983                           0.016170   \n\n         Education  Engineering  ...  Philosophy and religious studies  \\\n1970-71   0.209957     0.053629  ...                          0.009704   \n1975-76   0.166824     0.041840  ...                          0.009125   \n1980-81   0.115570     0.068056  ...                          0.007246   \n\n         Physical sciences and science technologies  Precision production  \\\n1970-71                                    0.025496                   0.0   \n1975-76                                    0.023179                   0.0   \n1980-81                                    0.025596                   0.0   \n\n         Psychology  Public administration and social services  \\\n1970-71    0.045475                                   0.006509   \n1975-76    0.054311                                   0.016678   \n1980-81    0.043916                                   0.017866   \n\n         Social sciences and history  Theology and religious vocations  \\\n1970-71                     0.184969                          0.004430   \n1975-76                     0.136534                          0.005930   \n1980-81                     0.107484                          0.006211   \n\n         Transportation and materials moving  Visual and performing arts  \\\n1970-71                             0.000000                    0.036195   \n1975-76                             0.000243                    0.045518   \n1980-81                             0.000281                    0.043287   \n\n         Not classified by field of study  \n1970-71                               0.0  \n1975-76                               0.0  \n1980-81                               0.0  \n\n[3 rows x 33 columns]",
      "text/html": "<div>\n<style scoped>\n    .dataframe tbody tr th:only-of-type {\n        vertical-align: middle;\n    }\n\n    .dataframe tbody tr th {\n        vertical-align: top;\n    }\n\n    .dataframe thead th {\n        text-align: right;\n    }\n</style>\n<table border=\"1\" class=\"dataframe\">\n  <thead>\n    <tr style=\"text-align: right;\">\n      <th></th>\n      <th>Agriculture and natural resources</th>\n      <th>Architecture and related services</th>\n      <th>Area, ethnic, cultural, gender, and group studies</th>\n      <th>Biological and biomedical sciences</th>\n      <th>Business</th>\n      <th>Communication, journalism, and related programs</th>\n      <th>Communications technologies</th>\n      <th>Computer and information sciences</th>\n      <th>Education</th>\n      <th>Engineering</th>\n      <th>...</th>\n      <th>Philosophy and religious studies</th>\n      <th>Physical sciences and science technologies</th>\n      <th>Precision production</th>\n      <th>Psychology</th>\n      <th>Public administration and social services</th>\n      <th>Social sciences and history</th>\n      <th>Theology and religious vocations</th>\n      <th>Transportation and materials moving</th>\n      <th>Visual and performing arts</th>\n      <th>Not classified by field of study</th>\n    </tr>\n  </thead>\n  <tbody>\n    <tr>\n      <th>1970-71</th>\n      <td>0.015091</td>\n      <td>0.006633</td>\n      <td>0.003071</td>\n      <td>0.042520</td>\n      <td>0.137420</td>\n      <td>0.012294</td>\n      <td>0.000569</td>\n      <td>0.002844</td>\n      <td>0.209957</td>\n      <td>0.053629</td>\n      <td>...</td>\n      <td>0.009704</td>\n      <td>0.025496</td>\n      <td>0.0</td>\n      <td>0.045475</td>\n      <td>0.006509</td>\n      <td>0.184969</td>\n      <td>0.004430</td>\n      <td>0.000000</td>\n      <td>0.036195</td>\n      <td>0.0</td>\n    </tr>\n    <tr>\n      <th>1975-76</th>\n      <td>0.020958</td>\n      <td>0.009880</td>\n      <td>0.003864</td>\n      <td>0.058498</td>\n      <td>0.154655</td>\n      <td>0.021653</td>\n      <td>0.001336</td>\n      <td>0.006105</td>\n      <td>0.166824</td>\n      <td>0.041840</td>\n      <td>...</td>\n      <td>0.009125</td>\n      <td>0.023179</td>\n      <td>0.0</td>\n      <td>0.054311</td>\n      <td>0.016678</td>\n      <td>0.136534</td>\n      <td>0.005930</td>\n      <td>0.000243</td>\n      <td>0.045518</td>\n      <td>0.0</td>\n    </tr>\n    <tr>\n      <th>1980-81</th>\n      <td>0.023404</td>\n      <td>0.010111</td>\n      <td>0.003087</td>\n      <td>0.046066</td>\n      <td>0.214429</td>\n      <td>0.031469</td>\n      <td>0.001983</td>\n      <td>0.016170</td>\n      <td>0.115570</td>\n      <td>0.068056</td>\n      <td>...</td>\n      <td>0.007246</td>\n      <td>0.025596</td>\n      <td>0.0</td>\n      <td>0.043916</td>\n      <td>0.017866</td>\n      <td>0.107484</td>\n      <td>0.006211</td>\n      <td>0.000281</td>\n      <td>0.043287</td>\n      <td>0.0</td>\n    </tr>\n  </tbody>\n</table>\n<p>3 rows × 33 columns</p>\n</div>"
     },
     "metadata": {},
     "execution_count": 5
    }
   ],
   "source": [
    "df.head(3)"
   ]
  },
  {
   "cell_type": "code",
   "execution_count": 6,
   "metadata": {},
   "outputs": [],
   "source": [
    "df2 = df.T\n",
    "df2 = df2.sort_values(df2.columns[-1], ascending=False)"
   ]
  },
  {
   "cell_type": "code",
   "execution_count": 7,
   "metadata": {
    "tags": []
   },
   "outputs": [
    {
     "output_type": "stream",
     "name": "stdout",
     "text": "你相信吗\n"
    }
   ],
   "source": [
    "from translate import Translator\n",
    "\n",
    "# 英语翻译中文\n",
    "translator = Translator(to_lang=\"chinese\")\n",
    "translation = translator.translate(\"Do you believe\")\n",
    "print(translation)"
   ]
  },
  {
   "cell_type": "code",
   "execution_count": 8,
   "metadata": {},
   "outputs": [],
   "source": [
    "df2.index = [translator.translate(a.replace('\\n', '')) + ':' + a.replace('\\n', '') for a in df2.index]"
   ]
  },
  {
   "cell_type": "code",
   "execution_count": 9,
   "metadata": {},
   "outputs": [
    {
     "output_type": "execute_result",
     "data": {
      "text/plain": "                                                    1970-71   1975-76  \\\n商务:Business                                        0.137420  0.154655   \n卫生专业和相关项目:Health professions and related programs  0.030037  0.058207   \n社会科学和历史:Social sciences and history                0.184969  0.136534   \n\n                                                    1980-81   1985-86  \\\n商务:Business                                        0.214429  0.239618   \n卫生专业和相关项目:Health professions and related programs  0.068081  0.066114   \n社会科学和历史:Social sciences and history                0.107484  0.094997   \n\n                                                    1990-91   1995-96  \\\n商务:Business                                        0.227644  0.194561   \n卫生专业和相关项目:Health professions and related programs  0.054703  0.073908   \n社会科学和历史:Social sciences and history                0.114301  0.108585   \n\n                                                    2000-01   2005-06  \\\n商务:Business                                        0.211800  0.214155   \n卫生专业和相关项目:Health professions and related programs  0.061031  0.061930   \n社会科学和历史:Social sciences and history                0.102909  0.108725   \n\n                                                    2007-08   2009-10  \\\n商务:Business                                        0.214547  0.217052   \n卫生专业和相关项目:Health professions and related programs  0.071334  0.078563   \n社会科学和历史:Social sciences and history                0.107001  0.104722   \n\n                                                    2010-11   2011-12  \\\n商务:Business                                        0.212775  0.204912   \n卫生专业和相关项目:Health professions and related programs  0.083601  0.091328   \n社会科学和历史:Social sciences and history                0.103242  0.099619   \n\n                                                    2012-13   2013-14  \\\n商务:Business                                        0.196094  0.191499   \n卫生专业和相关项目:Health professions and related programs  0.098430  0.106289   \n社会科学和历史:Social sciences and history                0.096592  0.092577   \n\n                                                    2014-15   2015-16  \\\n商务:Business                                        0.191951  0.193513   \n卫生专业和相关项目:Health professions and related programs  0.114106  0.119176   \n社会科学和历史:Social sciences and history                0.088113  0.083931   \n\n                                                    2016-17   2017-18  \n商务:Business                                        0.194830  0.194988  \n卫生专业和相关项目:Health professions and related programs  0.121659  0.123651  \n社会科学和历史:Social sciences and history                0.081333  0.080765  ",
      "text/html": "<div>\n<style scoped>\n    .dataframe tbody tr th:only-of-type {\n        vertical-align: middle;\n    }\n\n    .dataframe tbody tr th {\n        vertical-align: top;\n    }\n\n    .dataframe thead th {\n        text-align: right;\n    }\n</style>\n<table border=\"1\" class=\"dataframe\">\n  <thead>\n    <tr style=\"text-align: right;\">\n      <th></th>\n      <th>1970-71</th>\n      <th>1975-76</th>\n      <th>1980-81</th>\n      <th>1985-86</th>\n      <th>1990-91</th>\n      <th>1995-96</th>\n      <th>2000-01</th>\n      <th>2005-06</th>\n      <th>2007-08</th>\n      <th>2009-10</th>\n      <th>2010-11</th>\n      <th>2011-12</th>\n      <th>2012-13</th>\n      <th>2013-14</th>\n      <th>2014-15</th>\n      <th>2015-16</th>\n      <th>2016-17</th>\n      <th>2017-18</th>\n    </tr>\n  </thead>\n  <tbody>\n    <tr>\n      <th>商务:Business</th>\n      <td>0.137420</td>\n      <td>0.154655</td>\n      <td>0.214429</td>\n      <td>0.239618</td>\n      <td>0.227644</td>\n      <td>0.194561</td>\n      <td>0.211800</td>\n      <td>0.214155</td>\n      <td>0.214547</td>\n      <td>0.217052</td>\n      <td>0.212775</td>\n      <td>0.204912</td>\n      <td>0.196094</td>\n      <td>0.191499</td>\n      <td>0.191951</td>\n      <td>0.193513</td>\n      <td>0.194830</td>\n      <td>0.194988</td>\n    </tr>\n    <tr>\n      <th>卫生专业和相关项目:Health professions and related programs</th>\n      <td>0.030037</td>\n      <td>0.058207</td>\n      <td>0.068081</td>\n      <td>0.066114</td>\n      <td>0.054703</td>\n      <td>0.073908</td>\n      <td>0.061031</td>\n      <td>0.061930</td>\n      <td>0.071334</td>\n      <td>0.078563</td>\n      <td>0.083601</td>\n      <td>0.091328</td>\n      <td>0.098430</td>\n      <td>0.106289</td>\n      <td>0.114106</td>\n      <td>0.119176</td>\n      <td>0.121659</td>\n      <td>0.123651</td>\n    </tr>\n    <tr>\n      <th>社会科学和历史:Social sciences and history</th>\n      <td>0.184969</td>\n      <td>0.136534</td>\n      <td>0.107484</td>\n      <td>0.094997</td>\n      <td>0.114301</td>\n      <td>0.108585</td>\n      <td>0.102909</td>\n      <td>0.108725</td>\n      <td>0.107001</td>\n      <td>0.104722</td>\n      <td>0.103242</td>\n      <td>0.099619</td>\n      <td>0.096592</td>\n      <td>0.092577</td>\n      <td>0.088113</td>\n      <td>0.083931</td>\n      <td>0.081333</td>\n      <td>0.080765</td>\n    </tr>\n  </tbody>\n</table>\n</div>"
     },
     "metadata": {},
     "execution_count": 9
    }
   ],
   "source": [
    "df2.head(3)"
   ]
  },
  {
   "cell_type": "code",
   "execution_count": 10,
   "metadata": {},
   "outputs": [],
   "source": [
    "df3 = df2[:15].T"
   ]
  },
  {
   "cell_type": "code",
   "execution_count": 11,
   "metadata": {},
   "outputs": [],
   "source": [
    "df3.index = [a.split('-')[0] for a in df3.index]"
   ]
  },
  {
   "cell_type": "code",
   "execution_count": 12,
   "metadata": {},
   "outputs": [
    {
     "output_type": "display_data",
     "data": {
      "application/vnd.plotly.v1+json": {
       "config": {
        "plotlyServerURL": "https://plot.ly"
       },
       "data": [
        {
         "hovertemplate": "variable=商务:Business<br>index=%{x}<br>value=%{y}<extra></extra>",
         "legendgroup": "商务:Business",
         "line": {
          "color": "#636efa",
          "dash": "solid"
         },
         "mode": "lines",
         "name": "商务:Business",
         "orientation": "v",
         "showlegend": true,
         "type": "scatter",
         "x": [
          "1970",
          "1975",
          "1980",
          "1985",
          "1990",
          "1995",
          "2000",
          "2005",
          "2007",
          "2009",
          "2010",
          "2011",
          "2012",
          "2013",
          "2014",
          "2015",
          "2016",
          "2017"
         ],
         "xaxis": "x",
         "y": [
          0.13742036130661045,
          0.15465473250762088,
          0.21442885557242766,
          0.23961782627049583,
          0.22764399225974793,
          0.19456091731399255,
          0.2117996641940698,
          0.2141553722836919,
          0.2145473590776948,
          0.217052473485062,
          0.2127748968126276,
          0.20491160681254997,
          0.1960936349592829,
          0.19149907761409513,
          0.19195089734977194,
          0.19351295067031107,
          0.19482964694286733,
          0.19498758989500384
         ],
         "yaxis": "y"
        },
        {
         "hovertemplate": "variable=卫生专业和相关项目:Health professions and related programs<br>index=%{x}<br>value=%{y}<extra></extra>",
         "legendgroup": "卫生专业和相关项目:Health professions and related programs",
         "line": {
          "color": "#EF553B",
          "dash": "solid"
         },
         "mode": "lines",
         "name": "卫生专业和相关项目:Health professions and related programs",
         "orientation": "v",
         "showlegend": true,
         "type": "scatter",
         "x": [
          "1970",
          "1975",
          "1980",
          "1985",
          "1990",
          "1995",
          "2000",
          "2005",
          "2007",
          "2009",
          "2010",
          "2011",
          "2012",
          "2013",
          "2014",
          "2015",
          "2016",
          "2017"
         ],
         "xaxis": "x",
         "y": [
          0.03003703571386041,
          0.058207110805771775,
          0.06808071518703082,
          0.06611407104309172,
          0.05470344565469632,
          0.07390761612373711,
          0.061030999758071844,
          0.06193034292547862,
          0.07133438295771531,
          0.078563250680791,
          0.08360056478442099,
          0.09132818834001148,
          0.0984301620153653,
          0.1062893350800738,
          0.11410635213557584,
          0.1191758427697514,
          0.12165906486022798,
          0.12365119627757437
         ],
         "yaxis": "y"
        },
        {
         "hovertemplate": "variable=社会科学和历史:Social sciences and history<br>index=%{x}<br>value=%{y}<extra></extra>",
         "legendgroup": "社会科学和历史:Social sciences and history",
         "line": {
          "color": "#00cc96",
          "dash": "solid"
         },
         "mode": "lines",
         "name": "社会科学和历史:Social sciences and history",
         "orientation": "v",
         "showlegend": true,
         "type": "scatter",
         "x": [
          "1970",
          "1975",
          "1980",
          "1985",
          "1990",
          "1995",
          "2000",
          "2005",
          "2007",
          "2009",
          "2010",
          "2011",
          "2012",
          "2013",
          "2014",
          "2015",
          "2016",
          "2017"
         ],
         "xaxis": "x",
         "y": [
          0.1849689781239208,
          0.13653421132794524,
          0.10748444083238873,
          0.09499677573816362,
          0.11430119374567169,
          0.10858505209513801,
          0.10290868377417574,
          0.10872504551869767,
          0.10700093494162051,
          0.10472150451022141,
          0.10324214928093713,
          0.09961928686174193,
          0.09659249905318518,
          0.09257653129428121,
          0.08811278706933992,
          0.08393127684498243,
          0.08133319428213284,
          0.08076514507402643
         ],
         "yaxis": "y"
        },
        {
         "hovertemplate": "variable=工程部:Engineering<br>index=%{x}<br>value=%{y}<extra></extra>",
         "legendgroup": "工程部:Engineering",
         "line": {
          "color": "#ab63fa",
          "dash": "solid"
         },
         "mode": "lines",
         "name": "工程部:Engineering",
         "orientation": "v",
         "showlegend": true,
         "type": "scatter",
         "x": [
          "1970",
          "1975",
          "1980",
          "1985",
          "1990",
          "1995",
          "2000",
          "2005",
          "2007",
          "2009",
          "2010",
          "2011",
          "2012",
          "2013",
          "2014",
          "2015",
          "2016",
          "2017"
         ],
         "xaxis": "x",
         "y": [
          0.05362914270062996,
          0.041839770304165504,
          0.06805611993926043,
          0.07834500715209101,
          0.0570542091731854,
          0.05337261931744037,
          0.04678536953521662,
          0.04500762236180093,
          0.04374401272850753,
          0.04403670725653805,
          0.04449512922969162,
          0.04540379418613151,
          0.04672239063541734,
          0.04928428200946448,
          0.05163778404818232,
          0.055597553039177405,
          0.05913305666234177,
          0.06157391232346651
         ],
         "yaxis": "y"
        },
        {
         "hovertemplate": "variable=生物和生物医学科学:Biological and biomedical sciences<br>index=%{x}<br>value=%{y}<extra></extra>",
         "legendgroup": "生物和生物医学科学:Biological and biomedical sciences",
         "line": {
          "color": "#FFA15A",
          "dash": "solid"
         },
         "mode": "lines",
         "name": "生物和生物医学科学:Biological and biomedical sciences",
         "orientation": "v",
         "showlegend": true,
         "type": "scatter",
         "x": [
          "1970",
          "1975",
          "1980",
          "1985",
          "1990",
          "1995",
          "2000",
          "2005",
          "2007",
          "2009",
          "2010",
          "2011",
          "2012",
          "2013",
          "2014",
          "2015",
          "2016",
          "2017"
         ],
         "xaxis": "x",
         "y": [
          0.042519619401474286,
          0.05849768727059042,
          0.046065829715336744,
          0.03886829928033666,
          0.03607184035638781,
          0.05238188449096491,
          0.04868784114080781,
          0.04754010493541193,
          0.051075822358534126,
          0.05236075225511071,
          0.05243660889261579,
          0.05348285842303407,
          0.0545522910745112,
          0.05596182124428522,
          0.057997782549477066,
          0.05924456592476897,
          0.05969386242315121,
          0.05991132177211048
         ],
         "yaxis": "y"
        },
        {
         "hovertemplate": "variable=心理科:Psychology<br>index=%{x}<br>value=%{y}<extra></extra>",
         "legendgroup": "心理科:Psychology",
         "line": {
          "color": "#19d3f3",
          "dash": "solid"
         },
         "mode": "lines",
         "name": "心理科:Psychology",
         "orientation": "v",
         "showlegend": true,
         "type": "scatter",
         "x": [
          "1970",
          "1975",
          "1980",
          "1985",
          "1990",
          "1995",
          "2000",
          "2005",
          "2007",
          "2009",
          "2010",
          "2011",
          "2012",
          "2013",
          "2014",
          "2015",
          "2016",
          "2017"
         ],
         "xaxis": "x",
         "y": [
          0.04547533135650745,
          0.05431079367342662,
          0.04391641893192463,
          0.04112882571067894,
          0.05358882012319353,
          0.0630292790472462,
          0.059192024247470804,
          0.059343992070589,
          0.05919293179018938,
          0.058921074307284174,
          0.05880121418161327,
          0.06087560115904636,
          0.06218603647831617,
          0.06272865812902709,
          0.062044814453429055,
          0.06114642717688403,
          0.0597403832291983,
          0.05878492046021395
         ],
         "yaxis": "y"
        },
        {
         "hovertemplate": "variable=传播、新闻和相关节目:Communication, journalism, and related programs<br>index=%{x}<br>value=%{y}<extra></extra>",
         "legendgroup": "传播、新闻和相关节目:Communication, journalism, and related programs",
         "line": {
          "color": "#FF6692",
          "dash": "solid"
         },
         "mode": "lines",
         "name": "传播、新闻和相关节目:Communication, journalism, and related programs",
         "orientation": "v",
         "showlegend": true,
         "type": "scatter",
         "x": [
          "1970",
          "1975",
          "1980",
          "1985",
          "1990",
          "1995",
          "2000",
          "2005",
          "2007",
          "2009",
          "2010",
          "2011",
          "2012",
          "2013",
          "2014",
          "2015",
          "2016",
          "2017"
         ],
         "xaxis": "x",
         "y": [
          0.012294427970895408,
          0.021652807573567696,
          0.03146908484291122,
          0.04217962124793612,
          0.047188859591900875,
          0.04062527901977349,
          0.046627834919798,
          0.04959787328025512,
          0.04885741436842839,
          0.049263024427259765,
          0.04850141574881429,
          0.04674295809030763,
          0.04608719607516052,
          0.0468475790711975,
          0.04784141587540482,
          0.04818482363660029,
          0.04794914815803169,
          0.04659595565886651
         ],
         "yaxis": "y"
        },
        {
         "hovertemplate": "variable=视觉和表演艺术:Visual and performing arts<br>index=%{x}<br>value=%{y}<extra></extra>",
         "legendgroup": "视觉和表演艺术:Visual and performing arts",
         "line": {
          "color": "#B6E880",
          "dash": "solid"
         },
         "mode": "lines",
         "name": "视觉和表演艺术:Visual and performing arts",
         "orientation": "v",
         "showlegend": true,
         "type": "scatter",
         "x": [
          "1970",
          "1975",
          "1980",
          "1985",
          "1990",
          "1995",
          "2000",
          "2005",
          "2007",
          "2009",
          "2010",
          "2011",
          "2012",
          "2013",
          "2014",
          "2015",
          "2016",
          "2017"
         ],
         "xaxis": "x",
         "y": [
          0.03619496743000727,
          0.045517885035420085,
          0.043286566717282975,
          0.037700073798646115,
          0.038542289075390715,
          0.042321719242577216,
          0.049147585018458076,
          0.056084961053232636,
          0.05610353167482449,
          0.05563788282939951,
          0.05474131626470744,
          0.05345830708479084,
          0.05314062685932967,
          0.05208886987674786,
          0.05057602525423899,
          0.04840765326044514,
          0.046669570382912244,
          0.044723837297363886
         ],
         "yaxis": "y"
        },
        {
         "hovertemplate": "variable=教育:Education<br>index=%{x}<br>value=%{y}<extra></extra>",
         "legendgroup": "教育:Education",
         "line": {
          "color": "#FF97FF",
          "dash": "solid"
         },
         "mode": "lines",
         "name": "教育:Education",
         "orientation": "v",
         "showlegend": true,
         "type": "scatter",
         "x": [
          "1970",
          "1975",
          "1980",
          "1985",
          "1990",
          "1995",
          "2000",
          "2005",
          "2007",
          "2009",
          "2010",
          "2011",
          "2012",
          "2013",
          "2014",
          "2015",
          "2016",
          "2017"
         ],
         "xaxis": "x",
         "y": [
          0.20995677181951342,
          0.16682437731299946,
          0.11556986119725389,
          0.0882212704097799,
          0.10123632071248326,
          0.09047452248985227,
          0.08476166057559611,
          0.07220706428640687,
          0.06577141636621062,
          0.061389074251523866,
          0.06060885065904142,
          0.05895445894151369,
          0.05688930715976746,
          0.052850306125177125,
          0.04833641078033467,
          0.04540986593778472,
          0.0435199584482295,
          0.041714210125595515
         ],
         "yaxis": "y"
        },
        {
         "hovertemplate": "variable=计算机和信息科学:Computer and information sciences<br>index=%{x}<br>value=%{y}<extra></extra>",
         "legendgroup": "计算机和信息科学:Computer and information sciences",
         "line": {
          "color": "#FECB52",
          "dash": "solid"
         },
         "mode": "lines",
         "name": "计算机和信息科学:Computer and information sciences",
         "orientation": "v",
         "showlegend": true,
         "type": "scatter",
         "x": [
          "1970",
          "1975",
          "1980",
          "1985",
          "1990",
          "1995",
          "2000",
          "2005",
          "2007",
          "2009",
          "2010",
          "2011",
          "2012",
          "2013",
          "2014",
          "2015",
          "2016",
          "2017"
         ],
         "xaxis": "x",
         "y": [
          0.002843771212175342,
          0.006105346390910682,
          0.016169771371131594,
          0.0428588927368567,
          0.022985953891048096,
          0.02103894944333409,
          0.03547904588677923,
          0.03212030941940766,
          0.024635264053860823,
          0.023996935607141927,
          0.02509596148836895,
          0.026451835017238946,
          0.027690461920656648,
          0.029554313825094245,
          0.03144431386476507,
          0.03352961082910322,
          0.03650911961163818,
          0.04018793887240716
         ],
         "yaxis": "y"
        },
        {
         "hovertemplate": "variable=国土安全、执法和消防:Homeland security, law enforcement, and   firefighting<br>index=%{x}<br>value=%{y}<extra></extra>",
         "legendgroup": "国土安全、执法和消防:Homeland security, law enforcement, and   firefighting",
         "line": {
          "color": "#636efa",
          "dash": "solid"
         },
         "mode": "lines",
         "name": "国土安全、执法和消防:Homeland security, law enforcement, and   firefighting",
         "orientation": "v",
         "showlegend": true,
         "type": "scatter",
         "x": [
          "1970",
          "1975",
          "1980",
          "1985",
          "1990",
          "1995",
          "2000",
          "2005",
          "2007",
          "2009",
          "2010",
          "2011",
          "2012",
          "2013",
          "2014",
          "2015",
          "2016",
          "2017"
         ],
         "xaxis": "x",
         "y": [
          0.002435306586640944,
          0.013510185299207342,
          0.014657698312552132,
          0.012860603569667846,
          0.015354423510193341,
          0.021299940246842355,
          0.020263291782238936,
          0.023782172830993653,
          0.02576972809953611,
          0.02643341885268307,
          0.027738071026943808,
          0.03018196447532953,
          0.03274539348102377,
          0.033374862978905434,
          0.033099749916753254,
          0.03184120786151243,
          0.030444544643103623,
          0.029340961828576966
         ],
         "yaxis": "y"
        },
        {
         "hovertemplate": "variable=公园、娱乐、休闲和健身学习:Parks, recreation, leisure, and fitness studies<br>index=%{x}<br>value=%{y}<extra></extra>",
         "legendgroup": "公园、娱乐、休闲和健身学习:Parks, recreation, leisure, and fitness studies",
         "line": {
          "color": "#EF553B",
          "dash": "solid"
         },
         "mode": "lines",
         "name": "公园、娱乐、休闲和健身学习:Parks, recreation, leisure, and fitness studies",
         "orientation": "v",
         "showlegend": true,
         "type": "scatter",
         "x": [
          "1970",
          "1975",
          "1980",
          "1985",
          "1990",
          "1995",
          "2000",
          "2005",
          "2007",
          "2009",
          "2010",
          "2011",
          "2012",
          "2013",
          "2014",
          "2015",
          "2016",
          "2017"
         ],
         "xaxis": "x",
         "y": [
          0.0019303823848141664,
          0.005597647734907847,
          0.006126355412023868,
          0.004679988216512472,
          0.003942302597077488,
          0.011138469357619214,
          0.014425669783333641,
          0.017163107768883527,
          0.019126015038363302,
          0.02020220386576553,
          0.020939912695004174,
          0.021760297472941913,
          0.02316259513655053,
          0.02462208913723498,
          0.02586216449978865,
          0.026506312638292333,
          0.027243810943533966,
          0.02720478793766068
         ],
         "yaxis": "y"
        },
        {
         "hovertemplate": "variable=多/跨学科研究:Multi/interdisciplinary studies<br>index=%{x}<br>value=%{y}<extra></extra>",
         "legendgroup": "多/跨学科研究:Multi/interdisciplinary studies",
         "line": {
          "color": "#00cc96",
          "dash": "solid"
         },
         "mode": "lines",
         "name": "多/跨学科研究:Multi/interdisciplinary studies",
         "orientation": "v",
         "showlegend": true,
         "type": "scatter",
         "x": [
          "1970",
          "1975",
          "1980",
          "1985",
          "1990",
          "1995",
          "2000",
          "2005",
          "2007",
          "2009",
          "2010",
          "2011",
          "2012",
          "2013",
          "2014",
          "2015",
          "2016",
          "2017"
         ],
         "xaxis": "x",
         "y": [
          0.007530992104605051,
          0.014808597606686931,
          0.013886690762880424,
          0.013923547032211237,
          0.016238814915516868,
          0.023081374185262262,
          0.021281640546195017,
          0.020593170579299498,
          0.021852821515679778,
          0.022859910092556057,
          0.024750401065701352,
          0.025509398419674995,
          0.025895724852625625,
          0.025875999251396945,
          0.02509592505207209,
          0.025423922946765588,
          0.025372243131024062,
          0.026208142402168184
         ],
         "yaxis": "y"
        },
        {
         "hovertemplate": "variable=文科和理科、一般研究和人文学科:Liberal arts and sciences, general studies,   and humanities<br>index=%{x}<br>value=%{y}<extra></extra>",
         "legendgroup": "文科和理科、一般研究和人文学科:Liberal arts and sciences, general studies,   and humanities",
         "line": {
          "color": "#ab63fa",
          "dash": "solid"
         },
         "mode": "lines",
         "name": "文科和理科、一般研究和人文学科:Liberal arts and sciences, general studies,   and humanities",
         "orientation": "v",
         "showlegend": true,
         "type": "scatter",
         "x": [
          "1970",
          "1975",
          "1980",
          "1985",
          "1990",
          "1995",
          "2000",
          "2005",
          "2007",
          "2009",
          "2010",
          "2011",
          "2012",
          "2013",
          "2014",
          "2015",
          "2016",
          "2017"
         ],
         "xaxis": "x",
         "y": [
          0.008908815928929536,
          0.020367357784964773,
          0.02314412815193447,
          0.021599011158881704,
          0.02788939260217553,
          0.029187185351547743,
          0.030511883012865594,
          0.03023222616059212,
          0.029980802361526962,
          0.028463821557300692,
          0.027223518154742308,
          0.02620353171000629,
          0.025424083382734337,
          0.024212496323824294,
          0.023034149899022093,
          0.022735389821684236,
          0.02254623196807548,
          0.022347276946286156
         ],
         "yaxis": "y"
        },
        {
         "hovertemplate": "variable=英语语言和文学/字母:English language and literature/letters<br>index=%{x}<br>value=%{y}<extra></extra>",
         "legendgroup": "英语语言和文学/字母:English language and literature/letters",
         "line": {
          "color": "#FFA15A",
          "dash": "solid"
         },
         "mode": "lines",
         "name": "英语语言和文学/字母:English language and literature/letters",
         "orientation": "v",
         "showlegend": true,
         "type": "scatter",
         "x": [
          "1970",
          "1975",
          "1980",
          "1985",
          "1990",
          "1995",
          "2000",
          "2005",
          "2007",
          "2009",
          "2010",
          "2011",
          "2012",
          "2013",
          "2014",
          "2015",
          "2016",
          "2017"
         ],
         "xaxis": "x",
         "y": [
          0.07611255998952045,
          0.044776861039637225,
          0.034136065188100174,
          0.03450314479415847,
          0.0466534738857856,
          0.04286430538671282,
          0.04064473452604184,
          0.03709773860955192,
          0.035172861880601175,
          0.032261583750475026,
          0.030741474767970452,
          0.03000006137834561,
          0.02847290859881731,
          0.026983931770178864,
          0.024196174185435224,
          0.022281400494598463,
          0.02112044594537946,
          0.020196461352974083
         ],
         "yaxis": "y"
        }
       ],
       "layout": {
        "legend": {
         "title": {
          "text": "variable"
         },
         "tracegroupgap": 0
        },
        "margin": {
         "t": 60
        },
        "template": {
         "data": {
          "bar": [
           {
            "error_x": {
             "color": "#2a3f5f"
            },
            "error_y": {
             "color": "#2a3f5f"
            },
            "marker": {
             "line": {
              "color": "#E5ECF6",
              "width": 0.5
             }
            },
            "type": "bar"
           }
          ],
          "barpolar": [
           {
            "marker": {
             "line": {
              "color": "#E5ECF6",
              "width": 0.5
             }
            },
            "type": "barpolar"
           }
          ],
          "carpet": [
           {
            "aaxis": {
             "endlinecolor": "#2a3f5f",
             "gridcolor": "white",
             "linecolor": "white",
             "minorgridcolor": "white",
             "startlinecolor": "#2a3f5f"
            },
            "baxis": {
             "endlinecolor": "#2a3f5f",
             "gridcolor": "white",
             "linecolor": "white",
             "minorgridcolor": "white",
             "startlinecolor": "#2a3f5f"
            },
            "type": "carpet"
           }
          ],
          "choropleth": [
           {
            "colorbar": {
             "outlinewidth": 0,
             "ticks": ""
            },
            "type": "choropleth"
           }
          ],
          "contour": [
           {
            "colorbar": {
             "outlinewidth": 0,
             "ticks": ""
            },
            "colorscale": [
             [
              0,
              "#0d0887"
             ],
             [
              0.1111111111111111,
              "#46039f"
             ],
             [
              0.2222222222222222,
              "#7201a8"
             ],
             [
              0.3333333333333333,
              "#9c179e"
             ],
             [
              0.4444444444444444,
              "#bd3786"
             ],
             [
              0.5555555555555556,
              "#d8576b"
             ],
             [
              0.6666666666666666,
              "#ed7953"
             ],
             [
              0.7777777777777778,
              "#fb9f3a"
             ],
             [
              0.8888888888888888,
              "#fdca26"
             ],
             [
              1,
              "#f0f921"
             ]
            ],
            "type": "contour"
           }
          ],
          "contourcarpet": [
           {
            "colorbar": {
             "outlinewidth": 0,
             "ticks": ""
            },
            "type": "contourcarpet"
           }
          ],
          "heatmap": [
           {
            "colorbar": {
             "outlinewidth": 0,
             "ticks": ""
            },
            "colorscale": [
             [
              0,
              "#0d0887"
             ],
             [
              0.1111111111111111,
              "#46039f"
             ],
             [
              0.2222222222222222,
              "#7201a8"
             ],
             [
              0.3333333333333333,
              "#9c179e"
             ],
             [
              0.4444444444444444,
              "#bd3786"
             ],
             [
              0.5555555555555556,
              "#d8576b"
             ],
             [
              0.6666666666666666,
              "#ed7953"
             ],
             [
              0.7777777777777778,
              "#fb9f3a"
             ],
             [
              0.8888888888888888,
              "#fdca26"
             ],
             [
              1,
              "#f0f921"
             ]
            ],
            "type": "heatmap"
           }
          ],
          "heatmapgl": [
           {
            "colorbar": {
             "outlinewidth": 0,
             "ticks": ""
            },
            "colorscale": [
             [
              0,
              "#0d0887"
             ],
             [
              0.1111111111111111,
              "#46039f"
             ],
             [
              0.2222222222222222,
              "#7201a8"
             ],
             [
              0.3333333333333333,
              "#9c179e"
             ],
             [
              0.4444444444444444,
              "#bd3786"
             ],
             [
              0.5555555555555556,
              "#d8576b"
             ],
             [
              0.6666666666666666,
              "#ed7953"
             ],
             [
              0.7777777777777778,
              "#fb9f3a"
             ],
             [
              0.8888888888888888,
              "#fdca26"
             ],
             [
              1,
              "#f0f921"
             ]
            ],
            "type": "heatmapgl"
           }
          ],
          "histogram": [
           {
            "marker": {
             "colorbar": {
              "outlinewidth": 0,
              "ticks": ""
             }
            },
            "type": "histogram"
           }
          ],
          "histogram2d": [
           {
            "colorbar": {
             "outlinewidth": 0,
             "ticks": ""
            },
            "colorscale": [
             [
              0,
              "#0d0887"
             ],
             [
              0.1111111111111111,
              "#46039f"
             ],
             [
              0.2222222222222222,
              "#7201a8"
             ],
             [
              0.3333333333333333,
              "#9c179e"
             ],
             [
              0.4444444444444444,
              "#bd3786"
             ],
             [
              0.5555555555555556,
              "#d8576b"
             ],
             [
              0.6666666666666666,
              "#ed7953"
             ],
             [
              0.7777777777777778,
              "#fb9f3a"
             ],
             [
              0.8888888888888888,
              "#fdca26"
             ],
             [
              1,
              "#f0f921"
             ]
            ],
            "type": "histogram2d"
           }
          ],
          "histogram2dcontour": [
           {
            "colorbar": {
             "outlinewidth": 0,
             "ticks": ""
            },
            "colorscale": [
             [
              0,
              "#0d0887"
             ],
             [
              0.1111111111111111,
              "#46039f"
             ],
             [
              0.2222222222222222,
              "#7201a8"
             ],
             [
              0.3333333333333333,
              "#9c179e"
             ],
             [
              0.4444444444444444,
              "#bd3786"
             ],
             [
              0.5555555555555556,
              "#d8576b"
             ],
             [
              0.6666666666666666,
              "#ed7953"
             ],
             [
              0.7777777777777778,
              "#fb9f3a"
             ],
             [
              0.8888888888888888,
              "#fdca26"
             ],
             [
              1,
              "#f0f921"
             ]
            ],
            "type": "histogram2dcontour"
           }
          ],
          "mesh3d": [
           {
            "colorbar": {
             "outlinewidth": 0,
             "ticks": ""
            },
            "type": "mesh3d"
           }
          ],
          "parcoords": [
           {
            "line": {
             "colorbar": {
              "outlinewidth": 0,
              "ticks": ""
             }
            },
            "type": "parcoords"
           }
          ],
          "pie": [
           {
            "automargin": true,
            "type": "pie"
           }
          ],
          "scatter": [
           {
            "marker": {
             "colorbar": {
              "outlinewidth": 0,
              "ticks": ""
             }
            },
            "type": "scatter"
           }
          ],
          "scatter3d": [
           {
            "line": {
             "colorbar": {
              "outlinewidth": 0,
              "ticks": ""
             }
            },
            "marker": {
             "colorbar": {
              "outlinewidth": 0,
              "ticks": ""
             }
            },
            "type": "scatter3d"
           }
          ],
          "scattercarpet": [
           {
            "marker": {
             "colorbar": {
              "outlinewidth": 0,
              "ticks": ""
             }
            },
            "type": "scattercarpet"
           }
          ],
          "scattergeo": [
           {
            "marker": {
             "colorbar": {
              "outlinewidth": 0,
              "ticks": ""
             }
            },
            "type": "scattergeo"
           }
          ],
          "scattergl": [
           {
            "marker": {
             "colorbar": {
              "outlinewidth": 0,
              "ticks": ""
             }
            },
            "type": "scattergl"
           }
          ],
          "scattermapbox": [
           {
            "marker": {
             "colorbar": {
              "outlinewidth": 0,
              "ticks": ""
             }
            },
            "type": "scattermapbox"
           }
          ],
          "scatterpolar": [
           {
            "marker": {
             "colorbar": {
              "outlinewidth": 0,
              "ticks": ""
             }
            },
            "type": "scatterpolar"
           }
          ],
          "scatterpolargl": [
           {
            "marker": {
             "colorbar": {
              "outlinewidth": 0,
              "ticks": ""
             }
            },
            "type": "scatterpolargl"
           }
          ],
          "scatterternary": [
           {
            "marker": {
             "colorbar": {
              "outlinewidth": 0,
              "ticks": ""
             }
            },
            "type": "scatterternary"
           }
          ],
          "surface": [
           {
            "colorbar": {
             "outlinewidth": 0,
             "ticks": ""
            },
            "colorscale": [
             [
              0,
              "#0d0887"
             ],
             [
              0.1111111111111111,
              "#46039f"
             ],
             [
              0.2222222222222222,
              "#7201a8"
             ],
             [
              0.3333333333333333,
              "#9c179e"
             ],
             [
              0.4444444444444444,
              "#bd3786"
             ],
             [
              0.5555555555555556,
              "#d8576b"
             ],
             [
              0.6666666666666666,
              "#ed7953"
             ],
             [
              0.7777777777777778,
              "#fb9f3a"
             ],
             [
              0.8888888888888888,
              "#fdca26"
             ],
             [
              1,
              "#f0f921"
             ]
            ],
            "type": "surface"
           }
          ],
          "table": [
           {
            "cells": {
             "fill": {
              "color": "#EBF0F8"
             },
             "line": {
              "color": "white"
             }
            },
            "header": {
             "fill": {
              "color": "#C8D4E3"
             },
             "line": {
              "color": "white"
             }
            },
            "type": "table"
           }
          ]
         },
         "layout": {
          "annotationdefaults": {
           "arrowcolor": "#2a3f5f",
           "arrowhead": 0,
           "arrowwidth": 1
          },
          "coloraxis": {
           "colorbar": {
            "outlinewidth": 0,
            "ticks": ""
           }
          },
          "colorscale": {
           "diverging": [
            [
             0,
             "#8e0152"
            ],
            [
             0.1,
             "#c51b7d"
            ],
            [
             0.2,
             "#de77ae"
            ],
            [
             0.3,
             "#f1b6da"
            ],
            [
             0.4,
             "#fde0ef"
            ],
            [
             0.5,
             "#f7f7f7"
            ],
            [
             0.6,
             "#e6f5d0"
            ],
            [
             0.7,
             "#b8e186"
            ],
            [
             0.8,
             "#7fbc41"
            ],
            [
             0.9,
             "#4d9221"
            ],
            [
             1,
             "#276419"
            ]
           ],
           "sequential": [
            [
             0,
             "#0d0887"
            ],
            [
             0.1111111111111111,
             "#46039f"
            ],
            [
             0.2222222222222222,
             "#7201a8"
            ],
            [
             0.3333333333333333,
             "#9c179e"
            ],
            [
             0.4444444444444444,
             "#bd3786"
            ],
            [
             0.5555555555555556,
             "#d8576b"
            ],
            [
             0.6666666666666666,
             "#ed7953"
            ],
            [
             0.7777777777777778,
             "#fb9f3a"
            ],
            [
             0.8888888888888888,
             "#fdca26"
            ],
            [
             1,
             "#f0f921"
            ]
           ],
           "sequentialminus": [
            [
             0,
             "#0d0887"
            ],
            [
             0.1111111111111111,
             "#46039f"
            ],
            [
             0.2222222222222222,
             "#7201a8"
            ],
            [
             0.3333333333333333,
             "#9c179e"
            ],
            [
             0.4444444444444444,
             "#bd3786"
            ],
            [
             0.5555555555555556,
             "#d8576b"
            ],
            [
             0.6666666666666666,
             "#ed7953"
            ],
            [
             0.7777777777777778,
             "#fb9f3a"
            ],
            [
             0.8888888888888888,
             "#fdca26"
            ],
            [
             1,
             "#f0f921"
            ]
           ]
          },
          "colorway": [
           "#636efa",
           "#EF553B",
           "#00cc96",
           "#ab63fa",
           "#FFA15A",
           "#19d3f3",
           "#FF6692",
           "#B6E880",
           "#FF97FF",
           "#FECB52"
          ],
          "font": {
           "color": "#2a3f5f"
          },
          "geo": {
           "bgcolor": "white",
           "lakecolor": "white",
           "landcolor": "#E5ECF6",
           "showlakes": true,
           "showland": true,
           "subunitcolor": "white"
          },
          "hoverlabel": {
           "align": "left"
          },
          "hovermode": "closest",
          "mapbox": {
           "style": "light"
          },
          "paper_bgcolor": "white",
          "plot_bgcolor": "#E5ECF6",
          "polar": {
           "angularaxis": {
            "gridcolor": "white",
            "linecolor": "white",
            "ticks": ""
           },
           "bgcolor": "#E5ECF6",
           "radialaxis": {
            "gridcolor": "white",
            "linecolor": "white",
            "ticks": ""
           }
          },
          "scene": {
           "xaxis": {
            "backgroundcolor": "#E5ECF6",
            "gridcolor": "white",
            "gridwidth": 2,
            "linecolor": "white",
            "showbackground": true,
            "ticks": "",
            "zerolinecolor": "white"
           },
           "yaxis": {
            "backgroundcolor": "#E5ECF6",
            "gridcolor": "white",
            "gridwidth": 2,
            "linecolor": "white",
            "showbackground": true,
            "ticks": "",
            "zerolinecolor": "white"
           },
           "zaxis": {
            "backgroundcolor": "#E5ECF6",
            "gridcolor": "white",
            "gridwidth": 2,
            "linecolor": "white",
            "showbackground": true,
            "ticks": "",
            "zerolinecolor": "white"
           }
          },
          "shapedefaults": {
           "line": {
            "color": "#2a3f5f"
           }
          },
          "ternary": {
           "aaxis": {
            "gridcolor": "white",
            "linecolor": "white",
            "ticks": ""
           },
           "baxis": {
            "gridcolor": "white",
            "linecolor": "white",
            "ticks": ""
           },
           "bgcolor": "#E5ECF6",
           "caxis": {
            "gridcolor": "white",
            "linecolor": "white",
            "ticks": ""
           }
          },
          "title": {
           "x": 0.05
          },
          "xaxis": {
           "automargin": true,
           "gridcolor": "white",
           "linecolor": "white",
           "ticks": "",
           "title": {
            "standoff": 15
           },
           "zerolinecolor": "white",
           "zerolinewidth": 2
          },
          "yaxis": {
           "automargin": true,
           "gridcolor": "white",
           "linecolor": "white",
           "ticks": "",
           "title": {
            "standoff": 15
           },
           "zerolinecolor": "white",
           "zerolinewidth": 2
          }
         }
        },
        "width": 1300,
        "xaxis": {
         "anchor": "y",
         "domain": [
          0,
          1
         ],
         "title": {
          "text": "index"
         }
        },
        "yaxis": {
         "anchor": "x",
         "domain": [
          0,
          1
         ],
         "title": {
          "text": "value"
         },
         "type": "log"
        }
       }
      }
     },
     "metadata": {}
    }
   ],
   "source": [
    "px.line(df3, width=1300, log_y=True)"
   ]
  },
  {
   "cell_type": "code",
   "execution_count": 13,
   "metadata": {
    "tags": []
   },
   "outputs": [
    {
     "output_type": "stream",
     "name": "stdout",
     "text": "商务:Business\n卫生专业和相关项目:Health professions and related programs\n社会科学和历史:Social sciences and history\n工程部:Engineering\n生物和生物医学科学:Biological and biomedical sciences\n心理科:Psychology\n传播、新闻和相关节目:Communication, journalism, and related programs\n视觉和表演艺术:Visual and performing arts\n教育:Education\n计算机和信息科学:Computer and information sciences\n国土安全、执法和消防:Homeland security, law enforcement, and   firefighting\n公园、娱乐、休闲和健身学习:Parks, recreation, leisure, and fitness studies\n多/跨学科研究:Multi/interdisciplinary studies\n文科和理科、一般研究和人文学科:Liberal arts and sciences, general studies,   and humanities\n英语语言和文学/字母:English language and literature/letters\n农业和自然资源:Agriculture and natural resources\n公共行政和社会服务:Public administration and social services\n物理科学和科学技术:Physical sciences and science technologies\n数学和统计学:Mathematics and statistics\n家庭和消费科学/人文科学:Family and consumer sciences/human sciences\n工程技术:Engineering technologies\n外语、文学和语言学:Foreign languages, literatures, and linguistics\n哲学和宗教研究:Philosophy and religious studies\n神学和宗教职业:Theology and religious vocations\n架构及相关服务:Architecture and related services\n地区、民族、文化、性别和群体研究:Area, ethnic, cultural, gender, and group studies\n运输和材料移动:Transportation and materials moving\n法律专业及研究，其他:Legal professions and studies\n通信技术:Communications technologies\n军事技术和应用科学:Military technologies and applied sciences\n图书馆科学:Library science\n精密生产:Precision production\n未按研究领域分类:Not classified by field of study\n"
    }
   ],
   "source": [
    "[print(a) for a in df2.index];"
   ]
  },
  {
   "cell_type": "code",
   "execution_count": null,
   "metadata": {},
   "outputs": [],
   "source": []
  }
 ]
}